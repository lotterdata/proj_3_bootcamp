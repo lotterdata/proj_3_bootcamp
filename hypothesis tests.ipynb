{
 "cells": [
  {
   "cell_type": "code",
   "execution_count": 11,
   "metadata": {
    "collapsed": true
   },
   "outputs": [],
   "source": [
    "import pandas as pd\n",
    "import numpy as np\n",
    "from numpy import random\n",
    "\n",
    "LuckyMoney = pd.read_csv(\"fl_lucky_money.csv\")"
   ]
  },
  {
   "cell_type": "code",
   "execution_count": 12,
   "metadata": {
    "collapsed": false
   },
   "outputs": [],
   "source": [
    "test = LuckyMoney[LuckyMoney['prize41'] != '2 Million']"
   ]
  },
  {
   "cell_type": "code",
   "execution_count": 13,
   "metadata": {
    "collapsed": false
   },
   "outputs": [],
   "source": [
    "testdesc = test.describe()"
   ]
  },
  {
   "cell_type": "code",
   "execution_count": 14,
   "metadata": {
    "collapsed": false
   },
   "outputs": [
    {
     "data": {
      "text/plain": [
       "66.375"
      ]
     },
     "execution_count": 14,
     "metadata": {},
     "output_type": "execute_result"
    }
   ],
   "source": [
    "testdesc.loc['75%','prize30']"
   ]
  },
  {
   "cell_type": "code",
   "execution_count": 15,
   "metadata": {
    "collapsed": false
   },
   "outputs": [],
   "source": [
    "test2 = test[test['prize30'] <= testdesc.loc['25%','prize30']].loc[:,'n1':'n4']"
   ]
  },
  {
   "cell_type": "code",
   "execution_count": 16,
   "metadata": {
    "collapsed": false
   },
   "outputs": [],
   "source": [
    "def LottoHypTest(n, k, draws, mu, tail = 'upper', iters=1000):\n",
    "    temp = [sum([random.randint(1,n+1,k).sum() for i in range(draws)])/float(draws) for j in range(iters)]\n",
    "    if tail == 'upper':\n",
    "        return sum([t >= mu for t in temp])/float(iters)\n",
    "    else:\n",
    "        return sum([t <= mu for t in temp])/float(iters)\n",
    "    "
   ]
  },
  {
   "cell_type": "code",
   "execution_count": 17,
   "metadata": {
    "collapsed": true
   },
   "outputs": [],
   "source": [
    "def VarFormula(n,k):\n",
    "    return (k*(n-k)*(n+1))/12.0"
   ]
  },
  {
   "cell_type": "code",
   "execution_count": 18,
   "metadata": {
    "collapsed": true
   },
   "outputs": [],
   "source": [
    "from itertools import combinations\n",
    "\n",
    "def VarList(n,k):\n",
    "    ints = range(1,n+1)\n",
    "    draws = combinations(ints,k)\n",
    "    sums = [sum([d[i] for i in range(0,k)]) for d in draws]\n",
    "    mu = sum(sums)/float(len(sums))\n",
    "    sqdev = [(s-mu)**2 for s in sums]\n",
    "    return sum(sqdev)/float(len(sqdev))"
   ]
  },
  {
   "cell_type": "code",
   "execution_count": 19,
   "metadata": {
    "collapsed": false
   },
   "outputs": [
    {
     "data": {
      "text/html": [
       "<div>\n",
       "<table border=\"1\" class=\"dataframe\">\n",
       "  <thead>\n",
       "    <tr style=\"text-align: right;\">\n",
       "      <th></th>\n",
       "      <th>n1</th>\n",
       "      <th>n2</th>\n",
       "      <th>n3</th>\n",
       "      <th>n4</th>\n",
       "    </tr>\n",
       "  </thead>\n",
       "  <tbody>\n",
       "    <tr>\n",
       "      <th>9</th>\n",
       "      <td>10</td>\n",
       "      <td>24</td>\n",
       "      <td>25</td>\n",
       "      <td>35</td>\n",
       "    </tr>\n",
       "    <tr>\n",
       "      <th>10</th>\n",
       "      <td>2</td>\n",
       "      <td>12</td>\n",
       "      <td>22</td>\n",
       "      <td>42</td>\n",
       "    </tr>\n",
       "    <tr>\n",
       "      <th>16</th>\n",
       "      <td>5</td>\n",
       "      <td>7</td>\n",
       "      <td>21</td>\n",
       "      <td>23</td>\n",
       "    </tr>\n",
       "    <tr>\n",
       "      <th>17</th>\n",
       "      <td>1</td>\n",
       "      <td>9</td>\n",
       "      <td>14</td>\n",
       "      <td>18</td>\n",
       "    </tr>\n",
       "    <tr>\n",
       "      <th>20</th>\n",
       "      <td>19</td>\n",
       "      <td>21</td>\n",
       "      <td>25</td>\n",
       "      <td>26</td>\n",
       "    </tr>\n",
       "  </tbody>\n",
       "</table>\n",
       "</div>"
      ],
      "text/plain": [
       "    n1  n2  n3  n4\n",
       "9   10  24  25  35\n",
       "10   2  12  22  42\n",
       "16   5   7  21  23\n",
       "17   1   9  14  18\n",
       "20  19  21  25  26"
      ]
     },
     "execution_count": 19,
     "metadata": {},
     "output_type": "execute_result"
    }
   ],
   "source": [
    "test2.head()"
   ]
  },
  {
   "cell_type": "code",
   "execution_count": 20,
   "metadata": {
    "collapsed": false
   },
   "outputs": [
    {
     "name": "stdout",
     "output_type": "stream",
     "text": [
      "9       94\n",
      "10      78\n",
      "16      56\n",
      "17      42\n",
      "20      91\n",
      "23      57\n",
      "31      90\n",
      "32      56\n",
      "35      78\n",
      "36      43\n",
      "42      84\n",
      "43      71\n",
      "50      79\n",
      "51      65\n",
      "62      57\n",
      "63      83\n",
      "78      79\n",
      "82      66\n",
      "86      95\n",
      "88      79\n",
      "91      77\n",
      "96      75\n",
      "104    119\n",
      "105     76\n",
      "111     69\n",
      "119     90\n",
      "120     81\n",
      "126     74\n",
      "130     48\n",
      "dtype: int64\n"
     ]
    }
   ],
   "source": [
    "print test2.apply(sum,axis=1)"
   ]
  },
  {
   "cell_type": "code",
   "execution_count": null,
   "metadata": {
    "collapsed": true
   },
   "outputs": [],
   "source": []
  }
 ],
 "metadata": {
  "kernelspec": {
   "display_name": "Python 2",
   "language": "python",
   "name": "python2"
  },
  "language_info": {
   "codemirror_mode": {
    "name": "ipython",
    "version": 2
   },
   "file_extension": ".py",
   "mimetype": "text/x-python",
   "name": "python",
   "nbconvert_exporter": "python",
   "pygments_lexer": "ipython2",
   "version": "2.7.10"
  }
 },
 "nbformat": 4,
 "nbformat_minor": 0
}
