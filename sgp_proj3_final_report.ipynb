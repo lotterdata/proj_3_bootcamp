{
 "cells": [
  {
   "cell_type": "markdown",
   "metadata": {},
   "source": [
    "# Lucky Numbers: An Indirect Look at Lottery Players' Preferences\n",
    "\n",
    "In a lottery game, the numbers that the lottery selects are random, but the numbers that players choose to play are not. To the best of my knowledge, data on player selections are not publicly available. However, lotteries do publish data on the numbers they draw and the amounts of the prizes they award. In games where prizes are parimutuel, that is when a certain percentage of sales is divided equally among the winners, one can infer the popularity of the numbers drawn from the prize amounts: popular numbers result in smaller prizes because there are more winners splitting the prize money. The primary component of this project is scraping a variety of lottery websites using a variety of techniques in order to gather data for an analysis that relates prizes amounts to the numbers drawn. Ultimately, I would like to build machine learning models that predict prize amounts as a function of the numbers drawn. However, here I simply do some hypothesis tests to investigate whether there is a relationship between prize amounts and the sum of the numbers drawn.\n",
    "\n",
    "## Scraping Strategies\n",
    "\n",
    "In this project a single observation is a lottery drawing, with the data comprising a date, the numbers drawn by the lottery, the number of winners at each prize level, and the prize amount at each level. In order to get all of these data components, one has to visit a separate page for each drawing. Beautiful Soup can easily scrape each ot these pages, so the primary challenge was visiting each page within a site in an automated fashion.\n",
    "\n",
    "Since I was accessing several different websites, I had to employ several different strategies. In increasing order of complexity they were: encoding dates into URL's, using Selenium to click a link, and using Selenium to fill in a form.\n",
    "\n",
    "### Encoding Dates into a URL\n",
    "\n",
    "Florida's Fantasy 5 game is a typical example of a website well sutied to this strategy."
   ]
  },
  {
   "cell_type": "code",
   "execution_count": 4,
   "metadata": {
    "collapsed": false
   },
   "outputs": [
    {
     "data": {
      "text/html": [
       "<iframe src=http://www.flalottery.com/fantasy5 width=900 height=600></iframe>"
      ],
      "text/plain": [
       "<IPython.core.display.HTML object>"
      ]
     },
     "execution_count": 4,
     "metadata": {},
     "output_type": "execute_result"
    }
   ],
   "source": [
    "from IPython.display import HTML\n",
    "HTML('<iframe src=http://www.flalottery.com/fantasy5 width=900 height=600></iframe>')"
   ]
  },
  {
   "cell_type": "markdown",
   "metadata": {
    "collapsed": true
   },
   "source": [
    "While it is possible to access individual pages using the menus on the right, visiting one of these pages reveals that the URL's have a particular format that encodes game name and the date of the drawing. For example, \n",
    "```\n",
    "http://www.flalottery.com/site/winningNumberSearch?searchTypeIn=date&gameNameIn=FANTASY5&singleDateIn=10%2F13%2F2015&fromDateIn=&toDateIn=&n1In=&n2In=&n3In=&n4In=&n5In=&submitForm=Submit\n",
    "```\n",
    "is the URL for the page that displays the data for the Fantasy 5 drawing that occurred on October 13, 2015, the key portion of the address being the string \n",
    "```\n",
    "10%2F13%2F2015\n",
    "```\n",
    "The following code uses the ```datetime``` library to create a date object that it uses to iterate through a specified range of dates, creating a URL string for each one that can be used to access a page which is then processed using Beautiful Soup.\n"
   ]
  },
  {
   "cell_type": "code",
   "execution_count": null,
   "metadata": {
    "collapsed": true
   },
   "outputs": [],
   "source": [
    "\n",
    "from datetime import timedelta, date\n",
    "import requests\n",
    "from bs4 import BeautifulSoup\n",
    "import re\n",
    "\n",
    "def encodeDate(dateob):\n",
    "    answer = dateob.strftime('%m') + '%2F'\n",
    "    answer = answer + dateob.strftime('%d') + '%2F'\n",
    "    answer = answer + dateob.strftime('%Y') + '&submitForm=Submit'\n",
    "    return answer\n",
    "\n",
    "fl5 = open('fl_fant_5.csv','w')\n",
    "fl5.write(','.join(['drawdate','n1','n2','n3','n4','n5','winners5','winners4','winners3','prize5','prize4','prize3'])+'\\n')\n",
    "url_stem = 'http://www.flalottery.com/site/winningNumberSearch?searchTypeIn=date&gameNameIn=FANTASY5&singleDateIn='\n",
    "start_date = date(2007,1,1)\n",
    "end_date = date(2015,10,26)\n",
    "current = start_date\n",
    "while current < end_date:\n",
    "    url = url_stem + encodeDate(current)\n",
    "    page = requests.get(url).text\n",
    "    bsPage = BeautifulSoup(page)\n",
    "    numbers = bsPage.find_all(\"div\",class_=\"winningNumbers\")\n",
    "    temp = numbers[0].get_text()\n",
    "    draws = re.split('[-\\n]',temp)\n",
    "    draws = draws[1:6]\n",
    "    winners = bsPage.find_all(\"td\",class_=\"column2\")\n",
    "    winners = [tag.get_text().replace(',','') for tag in winners[:-1]]\n",
    "    prizes = bsPage.find_all(\"td\", class_=\"column3 columnLast\")\n",
    "    prizes = [tag.get_text().replace('$','').replace(',','') for tag in prizes[:-1]]\n",
    "    fl5.write(','.join([current.strftime('%Y-%m-%d')] + draws + winners + prizes)+'\\n')\n",
    "    print current.strftime('%Y-%m-%d')\n",
    "    current = current + timedelta(1)\n",
    "    \n",
    "fl5.close()\n",
    "print 'done'\n"
   ]
  },
  {
   "cell_type": "markdown",
   "metadata": {},
   "source": [
    "The code for Florida's Lucky Money game is very similar. The only meaningful difference is that Lucky Money draws happen on Tuesdays and Fridays only, so the code checks the day of the week before building the URL in order to avoid getting an error caused by trying to access a non-existent page."
   ]
  },
  {
   "cell_type": "code",
   "execution_count": null,
   "metadata": {
    "collapsed": true
   },
   "outputs": [],
   "source": [
    "from datetime import timedelta, date\n",
    "import requests\n",
    "from bs4 import BeautifulSoup\n",
    "import re\n",
    "\n",
    "def encodeDate(dateob):\n",
    "    answer = dateob.strftime('%m') + '%2F'\n",
    "    answer = answer + dateob.strftime('%d') + '%2F'\n",
    "    answer = answer + dateob.strftime('%Y') + '&submitForm=Submit'\n",
    "    return answer\n",
    "\n",
    "fllm = open('fl_lucky_money.csv','w')\n",
    "fllm.write(','.join(['drawdate','n1','n2','n3','n4','luckyball','win41','win40','win31','win30','win21','win11','win20','prize41','prize40','prize31','prize30','prize21','prize11','prize20'])+'\\n')\n",
    "url_stem = 'http://www.flalottery.com/site/winningNumberSearch?searchTypeIn=date&gameNameIn=LUCKYMONEY&singleDateIn='\n",
    "start_date = date(2014,7,4)\n",
    "end_date = date(2015,10,24)\n",
    "current = start_date\n",
    "while current < end_date:\n",
    "    while current.strftime('%w') not in ['2','5']:\n",
    "        current = current + timedelta(1)\n",
    "    url = url_stem + encodeDate(current)\n",
    "    page = requests.get(url).text\n",
    "    bsPage = BeautifulSoup(page)\n",
    "    numbers = bsPage.find_all(\"div\",class_=\"winningNumbers\")\n",
    "    temp = numbers[0].get_text()\n",
    "    draws = re.split('[-\\n]',temp)\n",
    "    draws = draws[1:6]\n",
    "    winners = bsPage.find_all(\"td\",class_=\"column2\")\n",
    "    winners = [tag.get_text().replace(',','') for tag in winners[:-1]]\n",
    "    prizes = bsPage.find_all(\"td\", class_=\"column3 columnLast\")\n",
    "    prizes = [tag.get_text().replace('$','').replace(',','') for tag in prizes[:-1]]\n",
    "    fllm.write(','.join([current.strftime('%Y-%m-%d')] + draws + winners + prizes)+'\\n')\n",
    "    print current.strftime('%Y-%m-%d')\n",
    "    current = current + timedelta(1)\n",
    "\n",
    "fllm.close()"
   ]
  },
  {
   "cell_type": "markdown",
   "metadata": {},
   "source": [
    "North Carolina's Cash 5 game requires the same strategy. The structure of the code is the same as the Fantasy 5 code, with the differences coming from the differences in the page structures and tags. A sample data page can be found <a href = 'http://www.nc-educationlottery.org/cash5_payout.aspx?drawDate=10/21/2015'>here.</a>"
   ]
  },
  {
   "cell_type": "code",
   "execution_count": null,
   "metadata": {
    "collapsed": true
   },
   "outputs": [],
   "source": [
    "from datetime import timedelta, date\n",
    "import requests\n",
    "from bs4 import BeautifulSoup\n",
    "import re\n",
    "\n",
    "ncc5 = open('nc_cash_5.csv','w')\n",
    "ncc5.write(','.join(['drawdate','n1','n2','n3','n4','n5','winners5','winners4','winners3','prize5','prize4','prize3'])+'\\n')\n",
    "url_stem = 'http://www.nc-educationlottery.org/cash5_payout.aspx?drawDate='\n",
    "start_date = date(2006,10,27)\n",
    "end_date = date(2015,10,27)\n",
    "current = start_date\n",
    "p = re.compile('[,$]')\n",
    "while current < end_date:\n",
    "    print current.strftime('%Y-%m-%d')\n",
    "    url = url_stem + current.strftime('%m/%d/%Y')\n",
    "    page = requests.get(url).text\n",
    "    bsPage = BeautifulSoup(page)\n",
    "    \n",
    "    draws = []\n",
    "    draws.append(p.sub('',bsPage.find_all(\"span\",id=\"ctl00_MainContent_lblCash5Num1\")[0].get_text()))\n",
    "    draws.append(p.sub('',bsPage.find_all(\"span\",id=\"ctl00_MainContent_lblCash5Num2\")[0].get_text()))\n",
    "    draws.append(p.sub('',bsPage.find_all(\"span\",id=\"ctl00_MainContent_lblCash5Num3\")[0].get_text()))\n",
    "    draws.append(p.sub('',bsPage.find_all(\"span\",id=\"ctl00_MainContent_lblCash5Num4\")[0].get_text()))\n",
    "    draws.append(p.sub('',bsPage.find_all(\"span\",id=\"ctl00_MainContent_lblCash5Num5\")[0].get_text()))\n",
    "    \n",
    "    winners = []\n",
    "    winners.append(p.sub('',bsPage.find_all(\"span\",id=\"ctl00_MainContent_lblCash5Match5\")[0].get_text()))\n",
    "    winners.append(p.sub('',bsPage.find_all(\"span\",id=\"ctl00_MainContent_lblCash5Match4\")[0].get_text()))\n",
    "    winners.append(p.sub('',bsPage.find_all(\"span\",id=\"ctl00_MainContent_lblCash5Match3\")[0].get_text())) \n",
    "    \n",
    "    prizes = []\n",
    "    prizes.append(p.sub('',bsPage.find_all(\"span\",id=\"ctl00_MainContent_lblCash5Match5Prize\")[0].get_text()))\n",
    "    prizes.append(p.sub('',bsPage.find_all(\"span\",id=\"ctl00_MainContent_lblCash5Match4Prize\")[0].get_text()))\n",
    "    prizes.append(p.sub('',bsPage.find_all(\"span\",id=\"ctl00_MainContent_lblCash5Match3Prize\")[0].get_text()))\n",
    "    if prizes[0] == 'Rollover':\n",
    "        prizes[0] = '0'\n",
    "    ncc5.write(','.join([current.strftime('%Y-%m-%d')] + draws + winners + prizes)+'\\n')\n",
    "    current = current + timedelta(1)\n",
    "    \n",
    "ncc5.close()\n",
    "print 'finished'"
   ]
  },
  {
   "cell_type": "markdown",
   "metadata": {},
   "source": [
    "### Using Selenium to Click a Link\n",
    "\n",
    "Take a look at the Tennessee Cash website <a href = 'https://www.tnlottery.com/winningnumbers/TennesseeCashlist.aspx?TCShowall=y#TennesseeCashball'>here</a> or below."
   ]
  },
  {
   "cell_type": "code",
   "execution_count": 3,
   "metadata": {
    "collapsed": false
   },
   "outputs": [
    {
     "data": {
      "text/html": [
       "<iframe src=https://www.tnlottery.com/winningnumbers/TennesseeCashlist.aspx?TCShowall=y#TennesseeCashball width=900 height=600></iframe>"
      ],
      "text/plain": [
       "<IPython.core.display.HTML object>"
      ]
     },
     "execution_count": 3,
     "metadata": {},
     "output_type": "execute_result"
    }
   ],
   "source": [
    "HTML('<iframe src=https://www.tnlottery.com/winningnumbers/TennesseeCashlist.aspx?TCShowall=y#TennesseeCashball width=900 height=600></iframe>')"
   ]
  },
  {
   "cell_type": "markdown",
   "metadata": {},
   "source": [
    "There are two types of links that are of interest here. First there are the \"details\" links to the right. I chose to deal with these by having Beautiful Soup read the URL's encoded in the tags and use them to access each page. A more challenging problem is to use the \"Next Page\" link at the bottom of the page to access the next set of 40 \"details\" links. For this I used the Selenium package. (Read the documentation <a href = 'http://selenium-python.readthedocs.org'>here.</a>) Fortunately, the link has an id that remains the same no matter how many times we click, so the code is straightforward."
   ]
  },
  {
   "cell_type": "code",
   "execution_count": null,
   "metadata": {
    "collapsed": true
   },
   "outputs": [],
   "source": [
    "from selenium import webdriver\n",
    "from bs4 import BeautifulSoup\n",
    "import requests\n",
    "from datetime import date\n",
    "from time import sleep\n",
    "\n",
    "\n",
    "def GetTnCashData(url):\n",
    "    page = requests.get(url).text\n",
    "    bsPage = BeautifulSoup(page)\n",
    "    temp = bsPage.find_all(\"td\",class_=\"SmallBlackText\")\n",
    "    winners = []\n",
    "    prizes = []\n",
    "    for i in range(1,8):\n",
    "        winners.append(temp[3*i+1].get_text())\n",
    "        prizes.append(temp[3*i+2].get_text().replace('$','').replace(',',''))\n",
    "    return winners + prizes\n",
    "\n",
    "def cleanDate(strdate):\n",
    "    temp = strdate.split('/')\n",
    "    return date(int(temp[2]),int(temp[0]),int(temp[1])).strftime('%Y-%m-%d')\n",
    "\n",
    "tnc = open('tn_cash.csv','w')\n",
    "tnc.write(','.join(['drawdate','n1','n2','n3','n4','n5','cashball','win51','win50','win41','win40','win31','win30','win21','prize51','prize50','prize41','prize40','prize31','prize30','prize21'])+'\\n')\n",
    "driver = webdriver.Firefox()\n",
    "driver.get('https://www.tnlottery.com/winningnumbers/TennesseeCashlist.aspx?TCShowall=y#TennesseeCashball')\n",
    "html = driver.page_source\n",
    "nextLink = \"navTennesseeCashNextPage\"\n",
    "soup = BeautifulSoup(html)\n",
    "for pg in range(0,20):\n",
    "    temp = soup.find_all(\"td\",align=\"center\")\n",
    "    top = (len(temp)-4)/3 + 1\n",
    "    print pg, len(temp)\n",
    "    for i in range(1,top):\n",
    "        drawDate = [cleanDate(temp[3*i].get_text())]\n",
    "        NumsDrawn = temp[3*i+1].get_text().replace('-',' ').split(' ')\n",
    "        drawID = temp[3*i+2].a.get('href')\n",
    "        drawID = drawID[drawID.index('=')+1:]\n",
    "        drawID = drawID[:drawID.index(\"'\")]\n",
    "        drawData = GetTnCashData('https://www.tnlottery.com/winningnumbers/TennesseeCashdetails_popup.aspx?id='+drawID)\n",
    "        tnc.write(','.join(drawDate + NumsDrawn + drawData) + '\\n')\n",
    "    driver.find_element_by_id(nextLink).click()\n",
    "    sleep(30)\n",
    "    soup = BeautifulSoup(driver.page_source)\n",
    "\n",
    "tnc.close()\n",
    "print 'Done'"
   ]
  },
  {
   "cell_type": "markdown",
   "metadata": {},
   "source": [
    "Note that this code builds each data point from two different sources: the date and numbers drawn are read from the main page while the winner counts and prize amounts are read from the pop-up window you see when you click a \"details\" link."
   ]
  },
  {
   "cell_type": "markdown",
   "metadata": {},
   "source": [
    "### Using Selenium to Fill in a Form\n",
    "\n",
    "Past results from the  <a href='http://www.oregonlottery.org/games/draw-games/megabucks/past-results'>Oregon Lottery</a> website can be accessed only by using a form on the results page. Once again, Selenium is up to the challenge. Like in the Florida and North Carolina cases, the code iterates through a date object and checks for a valid day of the week (Monday, Wednesday, or Saturday.) However, here Selenium enters the date into the form in two places, \"Start Date\" and \"End Date.\" (Using the same date in both parts of the form simplifies both the iteration and the Beautiful Soup processing.) Then Selenium clicks the submit button.\n",
    "\n",
    "While testing this I noticed that sometimes the code repeats results from a previous selection, most likely due to a failure of the new page to load fast enough. The code deals with this issue in two ways. First, the ```sleep``` function from the ```date``` module pauses the code for 30 seconds, greatly reducing the likelihood of the problem occuring. As a extra safety measure, the also checks that the date on the page matches the one entered into the form before writing the results to a file. If the dates don't match, the desired date, i.e. the one Selenium entered on the form, is written to an error log."
   ]
  },
  {
   "cell_type": "code",
   "execution_count": null,
   "metadata": {
    "collapsed": true
   },
   "outputs": [],
   "source": [
    "from selenium import webdriver\n",
    "from datetime import timedelta, date\n",
    "import requests\n",
    "from bs4 import BeautifulSoup\n",
    "import re\n",
    "from time import sleep\n",
    "\n",
    "ormb = open('or_megabucks.csv','a')\n",
    "ormb_err = open('or_megabucks_errors.csv','w')\n",
    "ormb.write(','.join(['drawdate','n1','n2','n3','n4','n5','n6','winners6','winners5','winners4','prize6','prize5','prize4'])+'\\n')\n",
    "start_date = date(2012,10,30)\n",
    "end_date = date(2015,10,29)\n",
    "current = start_date\n",
    "\n",
    "driver = webdriver.Firefox()\n",
    "driver.get('http://www.oregonlottery.org/games/draw-games/megabucks/past-results')\n",
    "\n",
    "while current < end_date:\n",
    "    while current.strftime('%w') not in ['1','3','6']:\n",
    "        current = current + timedelta(1)    \n",
    "    driver.find_element_by_id(\"FromDate\").clear()\n",
    "    driver.find_element_by_id(\"ToDate\").clear()\n",
    "    driver.find_element_by_id(\"FromDate\").send_keys(current.strftime('%m/%d/%Y'))\n",
    "    driver.find_element_by_id(\"ToDate\").send_keys(current.strftime('%m/%d/%Y'))\n",
    "    driver.find_element_by_css_selector(\".viewResultsButton\").click()\n",
    "    sleep(30)\n",
    "    soup = BeautifulSoup(driver.page_source)\n",
    "    test1 = soup.find_all(\"td\")\n",
    "    numbers = [test1[i].get_text() for i in range(2,8)] \n",
    "    test2 = soup.find_all(\"strong\")\n",
    "    winners = [test2[1].get_text().replace(',','')]\n",
    "    prizes = [test2[0].get_text().replace('$','').replace(',','')]\n",
    "    for i in range(0,2):\n",
    "        winners.append(test2[4*i+3].get_text().replace(',',''))\n",
    "        prizes.append(test2[4*i+2].get_text().replace('$','').replace(',','')) \n",
    "    testdate = test1[0].get_text().split('/')\n",
    "    testdate = date(int(testdate[2]),int(testdate[0]),int(testdate[1]))\n",
    "    if current.strftime('%Y-%m-%d') == testdate.strftime('%Y-%m-%d'):\n",
    "        ormb.write(','.join([testdate.strftime('%Y-%m-%d')] + numbers + winners + prizes)+'\\n')\n",
    "    else:\n",
    "        ormb_err.write(current.strftime('%Y-%m-%d') + '\\n')\n",
    "    \n",
    "    current = current + timedelta(1)\n",
    "\n",
    "ormb.close()\n",
    "ormb_err.close()"
   ]
  },
  {
   "cell_type": "markdown",
   "metadata": {},
   "source": [
    "## Statistical Testing\n",
    "\n",
    "Building models that predict prize amounts from the numbers drawn is beyond the scope of this project, but there are some statistical tests we can do that will provide evidence that such models are possible. The contention is that large prize amounts are associated with large drawn numbers and small prize amounts are associated with small drawn numbers. \n",
    "\n",
    "The testing framework is as follows. For each game we will select a prize level and examine the draws with prize amounts less than or equal to the 25th percentile and the draws with prize amounts greater than or equal to the 75th percentile. For each of the draws with small prizes amounts, we will calculate the sum of the numbers drawn and find the mean of these sums. Then we will calculate the probability that the same number of random draws would result in a mean as low or lower than what we observed. We will do the same for draws with large prizes, except that the probability calculation will be the probability that the same number of random draws would result in a mean as high or higher than what we observed.\n",
    "\n",
    "We will need some functions to carry out these tests, starting with the the mean and variance of the sum of $k$ integers drawn at random, without replacement, from the set $\\{1,...,n\\}$. The formula for the mean follows from linearity of expectation and the fact that each draw has an expected value of $\\frac{n+1}{2}$. The formula for the variance is a slight modification of the formula for the variance of the test statistic in the Wilcoxon Rank Sum test. One source for more details is the <a href = 'https://stat.ethz.ch/R-manual/R-devel/library/stats/html/Wilcoxon.html'>R documentation</a>."
   ]
  },
  {
   "cell_type": "code",
   "execution_count": 2,
   "metadata": {
    "collapsed": true
   },
   "outputs": [],
   "source": [
    "def DrawMean(n,k):\n",
    "    return (n+1)*k/2.0\n",
    "\n",
    "def DrawVar(n,k):\n",
    "    return (k*(n-k)*(n+1))/12.0"
   ]
  },
  {
   "cell_type": "markdown",
   "metadata": {},
   "source": [
    "The key function is the following, which calculates the probabilities described above. Note that we are assuming that the mean of the sums from many draws is normally distributed."
   ]
  },
  {
   "cell_type": "code",
   "execution_count": 3,
   "metadata": {
    "collapsed": true
   },
   "outputs": [],
   "source": [
    "import scipy\n",
    "from scipy import stats\n",
    "\n",
    "def FormulaTest(n, k, draws, muObserved, tail = 'upper'):\n",
    "    if tail == 'upper':\n",
    "        return 1 - stats.norm.cdf(muObserved, loc = DrawMean(n,k), scale = (DrawVar(n,k)/draws)**0.5)\n",
    "    else:\n",
    "        return stats.norm.cdf(muObserved, loc = DrawMean(n,k), scale = (DrawVar(n,k)/draws)**0.5)"
   ]
  },
  {
   "cell_type": "markdown",
   "metadata": {},
   "source": [
    "### North Carolina Cash 5\n",
    "\n",
    "Of the games I scraped for this project, North Carolina Cash 5 is the most straightforward. In it the lottery chooses 5 numbers from 1 to 39. I'll explain the analysis step-by-step, later I'll define a function that streamlines the process. \n",
    "\n",
    "First we need to read the data from a file to a data frame. "
   ]
  },
  {
   "cell_type": "code",
   "execution_count": 4,
   "metadata": {
    "collapsed": true
   },
   "outputs": [],
   "source": [
    "import pandas as pd\n",
    "ncCash5 = pd.read_csv(\"nc_cash_5.csv\")"
   ]
  },
  {
   "cell_type": "markdown",
   "metadata": {},
   "source": [
    "In order to easily pick out the 25th and 75th percentiles, let's use the ```describe``` method."
   ]
  },
  {
   "cell_type": "code",
   "execution_count": 5,
   "metadata": {
    "collapsed": false
   },
   "outputs": [
    {
     "name": "stdout",
     "output_type": "stream",
     "text": [
      "                n1           n2           n3           n4           n5  \\\n",
      "count  3287.000000  3287.000000  3287.000000  3287.000000  3287.000000   \n",
      "mean      6.672346    13.298144    19.967752    26.620018    33.360511   \n",
      "std       5.223668     6.583094     6.907540     6.507134     5.133097   \n",
      "min       1.000000     2.000000     3.000000     6.000000    10.000000   \n",
      "25%       3.000000     8.000000    15.000000    22.000000    31.000000   \n",
      "50%       5.000000    13.000000    20.000000    27.000000    35.000000   \n",
      "75%       9.000000    18.000000    25.000000    32.000000    37.000000   \n",
      "max      28.000000    35.000000    37.000000    38.000000    39.000000   \n",
      "\n",
      "          winners5     winners4      winners3          prize5       prize4  \\\n",
      "count  3287.000000  3287.000000   3287.000000     3287.000000  3287.000000   \n",
      "mean      0.280803    47.976270   1583.690295    39221.962580   270.958016   \n",
      "std       0.593077    27.698062    809.249324   100219.929977    69.884372   \n",
      "min       0.000000    12.000000    549.000000        0.000000    46.000000   \n",
      "25%       0.000000    31.000000   1095.000000        0.000000   225.000000   \n",
      "50%       0.000000    41.000000   1357.000000        0.000000   263.000000   \n",
      "75%       0.000000    56.000000   1803.000000        0.000000   308.500000   \n",
      "max      12.000000   409.000000  10516.000000  1144821.000000   724.000000   \n",
      "\n",
      "            prize3  \n",
      "count  3287.000000  \n",
      "mean      4.648616  \n",
      "std       0.705847  \n",
      "min       2.000000  \n",
      "25%       4.000000  \n",
      "50%       5.000000  \n",
      "75%       5.000000  \n",
      "max       7.000000  \n"
     ]
    }
   ],
   "source": [
    "ncCash5Desc = ncCash5.describe()\n",
    "print(ncCash5Desc)"
   ]
  },
  {
   "cell_type": "markdown",
   "metadata": {},
   "source": [
    "In this case, we'll apply the percentiles to the  ```prize4``` field and select draws that are below the 25th percentile or above the 75th percentile."
   ]
  },
  {
   "cell_type": "code",
   "execution_count": 6,
   "metadata": {
    "collapsed": false
   },
   "outputs": [
    {
     "name": "stdout",
     "output_type": "stream",
     "text": [
      "    n1  n2  n3  n4  n5\n",
      "2   11  13  21  23  32\n",
      "11   4   6   9  14  25\n",
      "12   4  11  15  23  34\n",
      "13   5   7   9  30  36\n",
      "20   2   4   7  23  36\n",
      "    n1  n2  n3  n4  n5\n",
      "3    2  14  18  25  32\n",
      "5    6   7  30  32  33\n",
      "10   4  19  20  36  37\n",
      "15   2   8  31  34  35\n",
      "18   1  13  22  29  33\n"
     ]
    }
   ],
   "source": [
    "small = ncCash5[ncCash5['prize4'] < ncCash5Desc.loc['25%','prize4']].loc[:,'n1':'n5']\n",
    "print small.head()\n",
    "large = ncCash5[ncCash5['prize4'] > ncCash5Desc.loc['75%','prize4']].loc[:,'n1':'n5']\n",
    "print large.head()"
   ]
  },
  {
   "cell_type": "markdown",
   "metadata": {},
   "source": [
    "We can sum the numbers for each draw and take the average in one line."
   ]
  },
  {
   "cell_type": "code",
   "execution_count": 7,
   "metadata": {
    "collapsed": false
   },
   "outputs": [
    {
     "name": "stdout",
     "output_type": "stream",
     "text": [
      "82.9532019704\n",
      "113.423357664\n"
     ]
    }
   ],
   "source": [
    "print small.apply(sum,1).mean()\n",
    "print large.apply(sum,1).mean()"
   ]
  },
  {
   "cell_type": "markdown",
   "metadata": {},
   "source": [
    "We now have all the inputs we need for the tests."
   ]
  },
  {
   "cell_type": "code",
   "execution_count": 8,
   "metadata": {
    "collapsed": false
   },
   "outputs": [
    {
     "name": "stdout",
     "output_type": "stream",
     "text": [
      "7.40156748152e-93\n"
     ]
    }
   ],
   "source": [
    "print FormulaTest(39,5,len(small),small.apply(sum,1).mean(),tail='lower')"
   ]
  },
  {
   "cell_type": "code",
   "execution_count": 9,
   "metadata": {
    "collapsed": false
   },
   "outputs": [
    {
     "name": "stdout",
     "output_type": "stream",
     "text": [
      "0.0\n"
     ]
    }
   ],
   "source": [
    "print FormulaTest(39,5,len(large),large.apply(sum,1).mean(),tail='upper')"
   ]
  },
  {
   "cell_type": "markdown",
   "metadata": {},
   "source": [
    "These tests show that it is extremely unlikely that the means calculated above would be generated by random draws.\n",
    "\n",
    "The following function summarizes and generalizes the foregoing analysis."
   ]
  },
  {
   "cell_type": "code",
   "execution_count": 23,
   "metadata": {
    "collapsed": true
   },
   "outputs": [],
   "source": [
    "def GameTest(df, n, k, PrizeField, LowField, HighField):\n",
    "    desc = df.describe()\n",
    "    small = df[df[PrizeField] < desc.loc['25%',PrizeField]].loc[:,LowField:HighField]\n",
    "    large = df[df[PrizeField] > desc.loc['75%',PrizeField]].loc[:,LowField:HighField]\n",
    "    LowTest = FormulaTest(n,k,len(small),small.apply(sum,1).mean(),tail='lower')\n",
    "    HighTest = FormulaTest(n,k,len(large),large.apply(sum,1).mean(),tail='upper')\n",
    "    return (len(small),small.apply(sum,1).mean(),LowTest,len(large),large.apply(sum,1).mean(), HighTest)"
   ]
  },
  {
   "cell_type": "markdown",
   "metadata": {},
   "source": [
    "To illustrate this function using the detailed example:"
   ]
  },
  {
   "cell_type": "code",
   "execution_count": 24,
   "metadata": {
    "collapsed": false
   },
   "outputs": [
    {
     "name": "stdout",
     "output_type": "stream",
     "text": [
      "Small number of draws: 812\n",
      "Small mean: 82.953202\n",
      "Small p-value: 0.000000\n",
      "Large number of draws: 822\n",
      "Large mean: 113.423358\n",
      "Large p-value: 0.000000\n"
     ]
    }
   ],
   "source": [
    "NC5_results = GameTest(ncCash5, 39, 5, 'prize4', 'n1', 'n5')\n",
    "print 'Small number of draws: %d' % NC5_results[0]\n",
    "print 'Small mean: %f' % NC5_results[1]\n",
    "print 'Small p-value: %f' % NC5_results[2]\n",
    "print 'Large number of draws: %d' % NC5_results[3]\n",
    "print 'Large mean: %f' % NC5_results[4]\n",
    "print 'Large p-value: %f' % NC5_results[5]"
   ]
  },
  {
   "cell_type": "markdown",
   "metadata": {},
   "source": [
    "### Oregon Megabucks\n",
    "This game also has a simple structure, drawing 6 numbers from 1 to 48. Again we'll do the analysis using the prize for 4 matches."
   ]
  },
  {
   "cell_type": "code",
   "execution_count": 25,
   "metadata": {
    "collapsed": false
   },
   "outputs": [
    {
     "name": "stdout",
     "output_type": "stream",
     "text": [
      "Small number of draws: 93\n",
      "Small mean: 113.043011\n",
      "Small p-value: 0.000000\n",
      "Large number of draws: 115\n",
      "Large mean: 174.704348\n",
      "Large p-value: 0.000000\n"
     ]
    }
   ],
   "source": [
    "ormb = pd.read_csv(\"or_megabucks.csv\")\n",
    "ormb_results = GameTest(ormb, 48, 6,'prize4', 'n1', 'n6')\n",
    "print 'Small number of draws: %d' % ormb_results[0]\n",
    "print 'Small mean: %f' % ormb_results[1]\n",
    "print 'Small p-value: %f' % ormb_results[2]\n",
    "print 'Large number of draws: %d' % ormb_results[3]\n",
    "print 'Large mean: %f' % ormb_results[4]\n",
    "print 'Large p-value: %f' % ormb_results[5]"
   ]
  },
  {
   "cell_type": "markdown",
   "metadata": {},
   "source": [
    "In this case it is also highly unlikely that the mean we observed would be generated at random."
   ]
  },
  {
   "cell_type": "markdown",
   "metadata": {},
   "source": [
    "### Tennessee Cash\n",
    "\n",
    "Tennessee Cash is an example of a \"double matrix\" game. In this case the lottery draws 5 numbers from 1 to 35 and 1 number (the \"Cash Ball\") from 1 to 5. While the models I'd ultimately like to develop would include the Cash Ball data, for this anaysis it's enough to consider the first 5 numbers, which fit the testing framework. The test here will define \"large\" and \"small\" in terms of the prize for matching 4 of the first 5 numbers but not the Cash Ball"
   ]
  },
  {
   "cell_type": "code",
   "execution_count": 27,
   "metadata": {
    "collapsed": false
   },
   "outputs": [
    {
     "name": "stdout",
     "output_type": "stream",
     "text": [
      "Small number of draws: 145\n",
      "Small mean: 80.579310\n",
      "Small p-value: 0.000000\n",
      "Large number of draws: 174\n",
      "Large mean: 98.977011\n",
      "Large p-value: 0.000000\n"
     ]
    }
   ],
   "source": [
    "tc = pd.read_csv(\"tn_cash.csv\")\n",
    "tc_results = GameTest(tc, 35, 5, 'prize40', 'n1', 'n5')\n",
    "print 'Small number of draws: %d' % tc_results[0]\n",
    "print 'Small mean: %f' % tc_results[1]\n",
    "print 'Small p-value: %f' % tc_results[2]\n",
    "print 'Large number of draws: %d' % tc_results[3]\n",
    "print 'Large mean: %f' % tc_results[4]\n",
    "print 'Large p-value: %f' % tc_results[5]"
   ]
  },
  {
   "cell_type": "markdown",
   "metadata": {},
   "source": [
    "While the means in this case are not as unlikely as in the previous examples, there is still less than a 1% probability that they would be produced by chance,"
   ]
  },
  {
   "cell_type": "markdown",
   "metadata": {},
   "source": [
    "### Florida Lucky Money\n",
    "\n",
    "Lucky Money is also a double matrix game, where the lottery selects 4 numbers from 1 to 47 and 1 number from 1 to 17 (the \"Lucky Ball\"). Again our analysis will define \"large\" and \"small\" in terms of matching 3 without the Lucky Ball, but we need to be careful. The rules of the game state that whenever the top prize reaches \\$2,000,000 it is not funded further, and money that would have gone to the top prize gets distributed among the lower prize levels. Whenever this happens the lower prizes, including the one used here, will be unusually large. We will deal with that by filtering out any draws where the top prize is \\$2,000,000."
   ]
  },
  {
   "cell_type": "code",
   "execution_count": 28,
   "metadata": {
    "collapsed": false
   },
   "outputs": [
    {
     "name": "stdout",
     "output_type": "stream",
     "text": [
      "Small number of draws: 29\n",
      "Small mean: 74.206897\n",
      "Small p-value: 0.000004\n",
      "Large number of draws: 29\n",
      "Large mean: 121.379310\n",
      "Large p-value: 0.000000\n"
     ]
    }
   ],
   "source": [
    "lm = pd.read_csv(\"fl_lucky_money.csv\")\n",
    "lm = lm[lm['prize41'] != '2 Million']\n",
    "lm_results = GameTest(lm, 47,4, 'prize30', 'n1', 'n4')\n",
    "print 'Small number of draws: %d' % lm_results[0]\n",
    "print 'Small mean: %f' % lm_results[1]\n",
    "print 'Small p-value: %f' % lm_results[2]\n",
    "print 'Large number of draws: %d' % lm_results[3]\n",
    "print 'Large mean: %f' % lm_results[4]\n",
    "print 'Large p-value: %f' % lm_results[5]"
   ]
  },
  {
   "cell_type": "markdown",
   "metadata": {},
   "source": [
    "Once again, the means are not likely under the assumption of random selection."
   ]
  },
  {
   "cell_type": "markdown",
   "metadata": {},
   "source": [
    "### Florida Fantasy 5\n",
    "\n",
    "Fantasy 5 is a single matrix game where the the lottery select 5 numbers from 1 to 36. The complication arises from the fact that all the prize money is awarded in every draw. If there is no top prize winner, the money that would have been awarded is added to the second-prize pool and divided among the players who matched 4 numbers. Moreover, since mid-September of 2008 the second prize has been capped at \\$555, and if there is any extra money left it is addded to the third-prize pool. So we will restrict the dataset to draws where the current rules apply and there was at least one top-prize winner. This is the vast majority of cases."
   ]
  },
  {
   "cell_type": "code",
   "execution_count": 29,
   "metadata": {
    "collapsed": false,
    "scrolled": true
   },
   "outputs": [
    {
     "name": "stdout",
     "output_type": "stream",
     "text": [
      "2195\n",
      "2596\n",
      "Small number of draws: 399\n",
      "Small mean: 64.258145\n",
      "Small p-value: 0.000000\n",
      "Large number of draws: 288\n",
      "Large mean: 116.704861\n",
      "Large p-value: 0.000000\n"
     ]
    }
   ],
   "source": [
    "ff = pd.read_csv(\"fl_fant_5.csv\")\n",
    "ff = ff[ff['drawdate'] > '2008-09-15']\n",
    "ff_top = ff[ff['winners5'] > 0]\n",
    "print len(ff_top)\n",
    "print len(ff)\n",
    "ff_top_results = GameTest(ff_top, 36, 5, 'prize3', 'n1', 'n5')\n",
    "print 'Small number of draws: %d' % ff_top_results[0]\n",
    "print 'Small mean: %f' % ff_top_results[1]\n",
    "print 'Small p-value: %f' % ff_top_results[2]\n",
    "print 'Large number of draws: %d' % ff_top_results[3]\n",
    "print 'Large mean: %f' % ff_top_results[4]\n",
    "print 'Large p-value: %f' % ff_top_results[5]"
   ]
  },
  {
   "cell_type": "markdown",
   "metadata": {},
   "source": [
    "Once again, the sums of the drawn numbers when the prizes are unusually large or small are themselves unusually large or small."
   ]
  },
  {
   "cell_type": "markdown",
   "metadata": {},
   "source": [
    "## Conclusion\n",
    "\n",
    "The tests presented here provide multiple examples of parimutuel lotteries where there is a relationship between the numbers drawn and the prize amounts. Therefore the project of predicting prize amounts from the drawn numbers is likely to produce some results, and using the sum of the drawn numbers appears to be a great starting point."
   ]
  },
  {
   "cell_type": "code",
   "execution_count": null,
   "metadata": {
    "collapsed": true
   },
   "outputs": [],
   "source": []
  }
 ],
 "metadata": {
  "kernelspec": {
   "display_name": "Python 2",
   "language": "python",
   "name": "python2"
  },
  "language_info": {
   "codemirror_mode": {
    "name": "ipython",
    "version": 2
   },
   "file_extension": ".py",
   "mimetype": "text/x-python",
   "name": "python",
   "nbconvert_exporter": "python",
   "pygments_lexer": "ipython2",
   "version": "2.7.10"
  }
 },
 "nbformat": 4,
 "nbformat_minor": 0
}
