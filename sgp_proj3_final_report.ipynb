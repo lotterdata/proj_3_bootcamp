{
 "cells": [
  {
   "cell_type": "markdown",
   "metadata": {},
   "source": [
    "# Lucky Numbers: An Indirect Look at Lottery Players' Preferences\n",
    "\n",
    "In a lottery game, the numbers that the lottery selects are random, but the numbers that players choose to play are not. To the best of my knowledge, data on player selections are not publicly available. However, lotteries do publish data on the numbers they draw and the amounts of the prizes they award. In games where prizes are parimutuel, that is when a certain percentage of sales is divided equally among the winners, one can infer the popularity of the numbers drawn from the prize amounts: popular numbers result in smaller prizes because there are more winners splitting the prize money. The primary component of this project is scraping a variety of lottery websites using a variety of techniques in order to gather data for an analysis that relates prizes amounts to the numbers drawn. Ultimately, I would like to build machine learning models that predict prize amounts as a function of the numbers drawn. However, here I simply do some hypothesis tests to investigate whether there is a relationship between prize amounts and the sum of the numbers drawn.\n",
    "\n",
    "## Scraping Strategies\n",
    "\n",
    "In this project a single observation is a lottery drawing, with the data comprising a date, the numbers drawn by the lottery, the number of winners at each prize level, and the prize amount at each level. In order to get all of these data components, one has to visit a separate page for each drawing. Beautiful Soup can easily scrape each ot these pages, so the primary challenge was visiting each page within a site in an automated fashion.\n",
    "\n",
    "Since I was accessing several different websites, I had to employ several different strategies. In increasing order of complexity they were: encoding dates into URL's, using Selenium to click a link, and using Selenium to fill in a form.\n",
    "\n",
    "### Encoding Dates into a URL\n",
    "\n",
    "Florida's Fantasy 5 game is a typical example of a website well sutied to this strategy."
   ]
  },
  {
   "cell_type": "code",
   "execution_count": 6,
   "metadata": {
    "collapsed": false
   },
   "outputs": [
    {
     "data": {
      "text/html": [
       "<iframe src=http://www.flalottery.com/fantasy5 width=900 height=600></iframe>"
      ],
      "text/plain": [
       "<IPython.core.display.HTML object>"
      ]
     },
     "execution_count": 6,
     "metadata": {},
     "output_type": "execute_result"
    }
   ],
   "source": [
    "HTML('<iframe src=http://nbviewer.ipython.org/ width=900 height=600></iframe>')"
   ]
  },
  {
   "cell_type": "markdown",
   "metadata": {
    "collapsed": true
   },
   "source": [
    "While it is possible to access individual pages using the menus on the right, visiting one of these pages reveals that the URL's have a particular format that encodes game name and the date of the drawing. For example, \n",
    "```\n",
    "http://www.flalottery.com/site/winningNumberSearch?searchTypeIn=date&gameNameIn=FANTASY5&singleDateIn=10%2F13%2F2015&fromDateIn=&toDateIn=&n1In=&n2In=&n3In=&n4In=&n5In=&submitForm=Submit\n",
    "```\n",
    "is the URL for the page that displays the data for the Fantasy 5 drawing that occurred on October 13, 2015, the key portion of the address being the string \n",
    "```\n",
    "10%2F13%2F2015\n",
    "```\n",
    "The following code uses the ```datetime``` library to create a date object that it uses to iterate through a specified range of dates, creating a URL string for each one that can be used to access a page which is then processed using Beautiful Soup.\n"
   ]
  },
  {
   "cell_type": "code",
   "execution_count": null,
   "metadata": {
    "collapsed": true
   },
   "outputs": [],
   "source": [
    "\n",
    "from datetime import timedelta, date\n",
    "import requests\n",
    "from bs4 import BeautifulSoup\n",
    "import re\n",
    "\n",
    "def encodeDate(dateob):\n",
    "    answer = dateob.strftime('%m') + '%2F'\n",
    "    answer = answer + dateob.strftime('%d') + '%2F'\n",
    "    answer = answer + dateob.strftime('%Y') + '&submitForm=Submit'\n",
    "    return answer\n",
    "\n",
    "fl5 = open('fl_fant_5.csv','w')\n",
    "fl5.write(','.join(['drawdate','n1','n2','n3','n4','n5','winners5','winners4','winners3','prize5','prize4','prize3'])+'\\n')\n",
    "url_stem = 'http://www.flalottery.com/site/winningNumberSearch?searchTypeIn=date&gameNameIn=FANTASY5&singleDateIn='\n",
    "start_date = date(2007,1,1)\n",
    "end_date = date(2015,10,26)\n",
    "current = start_date\n",
    "while current < end_date:\n",
    "    url = url_stem + encodeDate(current)\n",
    "    page = requests.get(url).text\n",
    "    bsPage = BeautifulSoup(page)\n",
    "    numbers = bsPage.find_all(\"div\",class_=\"winningNumbers\")\n",
    "    temp = numbers[0].get_text()\n",
    "    draws = re.split('[-\\n]',temp)\n",
    "    draws = draws[1:6]\n",
    "    winners = bsPage.find_all(\"td\",class_=\"column2\")\n",
    "    winners = [tag.get_text().replace(',','') for tag in winners[:-1]]\n",
    "    prizes = bsPage.find_all(\"td\", class_=\"column3 columnLast\")\n",
    "    prizes = [tag.get_text().replace('$','').replace(',','') for tag in prizes[:-1]]\n",
    "    fl5.write(','.join([current.strftime('%Y-%m-%d')] + draws + winners + prizes)+'\\n')\n",
    "    print current.strftime('%Y-%m-%d')\n",
    "    current = current + timedelta(1)\n",
    "    \n",
    "fl5.close()\n",
    "print 'done'\n"
   ]
  },
  {
   "cell_type": "markdown",
   "metadata": {},
   "source": [
    "The code for Florida's Lucky Money game is very similar. The only meaningful difference is that Lucky Money draws happen on Tuesdays and Fridays only, so the code checks the day of the week before building the URL in order to avoid getting an error caused by trying to access a non-existent page."
   ]
  },
  {
   "cell_type": "code",
   "execution_count": null,
   "metadata": {
    "collapsed": true
   },
   "outputs": [],
   "source": [
    "from datetime import timedelta, date\n",
    "import requests\n",
    "from bs4 import BeautifulSoup\n",
    "import re\n",
    "\n",
    "def encodeDate(dateob):\n",
    "    answer = dateob.strftime('%m') + '%2F'\n",
    "    answer = answer + dateob.strftime('%d') + '%2F'\n",
    "    answer = answer + dateob.strftime('%Y') + '&submitForm=Submit'\n",
    "    return answer\n",
    "\n",
    "fllm = open('fl_lucky_money.csv','w')\n",
    "fllm.write(','.join(['drawdate','n1','n2','n3','n4','luckyball','win41','win40','win31','win30','win21','win11','win20','prize41','prize40','prize31','prize30','prize21','prize11','prize20'])+'\\n')\n",
    "url_stem = 'http://www.flalottery.com/site/winningNumberSearch?searchTypeIn=date&gameNameIn=LUCKYMONEY&singleDateIn='\n",
    "start_date = date(2014,7,4)\n",
    "end_date = date(2015,10,24)\n",
    "current = start_date\n",
    "while current < end_date:\n",
    "    while current.strftime('%w') not in ['2','5']:\n",
    "        current = current + timedelta(1)\n",
    "    url = url_stem + encodeDate(current)\n",
    "    page = requests.get(url).text\n",
    "    bsPage = BeautifulSoup(page)\n",
    "    numbers = bsPage.find_all(\"div\",class_=\"winningNumbers\")\n",
    "    temp = numbers[0].get_text()\n",
    "    draws = re.split('[-\\n]',temp)\n",
    "    draws = draws[1:6]\n",
    "    winners = bsPage.find_all(\"td\",class_=\"column2\")\n",
    "    winners = [tag.get_text().replace(',','') for tag in winners[:-1]]\n",
    "    prizes = bsPage.find_all(\"td\", class_=\"column3 columnLast\")\n",
    "    prizes = [tag.get_text().replace('$','').replace(',','') for tag in prizes[:-1]]\n",
    "    fllm.write(','.join([current.strftime('%Y-%m-%d')] + draws + winners + prizes)+'\\n')\n",
    "    print current.strftime('%Y-%m-%d')\n",
    "    current = current + timedelta(1)\n",
    "\n",
    "fllm.close()"
   ]
  },
  {
   "cell_type": "markdown",
   "metadata": {},
   "source": [
    "North Carolina's Cash 5 game requires the same strategy. The structure of the code is the same as the Fantasy 5 code, with the differences coming from the differences in the page structures and tags. A sample data page can be found <a href = 'http://www.nc-educationlottery.org/cash5_payout.aspx?drawDate=10/21/2015'>here.</a>"
   ]
  },
  {
   "cell_type": "code",
   "execution_count": null,
   "metadata": {
    "collapsed": true
   },
   "outputs": [],
   "source": [
    "from datetime import timedelta, date\n",
    "import requests\n",
    "from bs4 import BeautifulSoup\n",
    "import re\n",
    "\n",
    "ncc5 = open('nc_cash_5.csv','w')\n",
    "ncc5.write(','.join(['drawdate','n1','n2','n3','n4','n5','winners5','winners4','winners3','prize5','prize4','prize3'])+'\\n')\n",
    "url_stem = 'http://www.nc-educationlottery.org/cash5_payout.aspx?drawDate='\n",
    "start_date = date(2006,10,27)\n",
    "end_date = date(2015,10,27)\n",
    "current = start_date\n",
    "p = re.compile('[,$]')\n",
    "while current < end_date:\n",
    "    print current.strftime('%Y-%m-%d')\n",
    "    url = url_stem + current.strftime('%m/%d/%Y')\n",
    "    page = requests.get(url).text\n",
    "    bsPage = BeautifulSoup(page)\n",
    "    \n",
    "    draws = []\n",
    "    draws.append(p.sub('',bsPage.find_all(\"span\",id=\"ctl00_MainContent_lblCash5Num1\")[0].get_text()))\n",
    "    draws.append(p.sub('',bsPage.find_all(\"span\",id=\"ctl00_MainContent_lblCash5Num2\")[0].get_text()))\n",
    "    draws.append(p.sub('',bsPage.find_all(\"span\",id=\"ctl00_MainContent_lblCash5Num3\")[0].get_text()))\n",
    "    draws.append(p.sub('',bsPage.find_all(\"span\",id=\"ctl00_MainContent_lblCash5Num4\")[0].get_text()))\n",
    "    draws.append(p.sub('',bsPage.find_all(\"span\",id=\"ctl00_MainContent_lblCash5Num5\")[0].get_text()))\n",
    "    \n",
    "    winners = []\n",
    "    winners.append(p.sub('',bsPage.find_all(\"span\",id=\"ctl00_MainContent_lblCash5Match5\")[0].get_text()))\n",
    "    winners.append(p.sub('',bsPage.find_all(\"span\",id=\"ctl00_MainContent_lblCash5Match4\")[0].get_text()))\n",
    "    winners.append(p.sub('',bsPage.find_all(\"span\",id=\"ctl00_MainContent_lblCash5Match3\")[0].get_text())) \n",
    "    \n",
    "    prizes = []\n",
    "    prizes.append(p.sub('',bsPage.find_all(\"span\",id=\"ctl00_MainContent_lblCash5Match5Prize\")[0].get_text()))\n",
    "    prizes.append(p.sub('',bsPage.find_all(\"span\",id=\"ctl00_MainContent_lblCash5Match4Prize\")[0].get_text()))\n",
    "    prizes.append(p.sub('',bsPage.find_all(\"span\",id=\"ctl00_MainContent_lblCash5Match3Prize\")[0].get_text()))\n",
    "    if prizes[0] == 'Rollover':\n",
    "        prizes[0] = '0'\n",
    "    ncc5.write(','.join([current.strftime('%Y-%m-%d')] + draws + winners + prizes)+'\\n')\n",
    "    current = current + timedelta(1)\n",
    "    \n",
    "ncc5.close()\n",
    "print 'finished'"
   ]
  },
  {
   "cell_type": "markdown",
   "metadata": {},
   "source": [
    "### Using Selenium to Click a Link\n",
    "\n",
    "Take a look at the Tennessee Cash website <a href = 'https://www.tnlottery.com/winningnumbers/TennesseeCashlist.aspx?TCShowall=y#TennesseeCashball'>here</a> or below."
   ]
  },
  {
   "cell_type": "code",
   "execution_count": 15,
   "metadata": {
    "collapsed": false
   },
   "outputs": [
    {
     "data": {
      "text/html": [
       "<iframe src=https://www.tnlottery.com/winningnumbers/TennesseeCashlist.aspx?TCShowall=y#TennesseeCashball width=900 height=600></iframe>"
      ],
      "text/plain": [
       "<IPython.core.display.HTML object>"
      ]
     },
     "execution_count": 15,
     "metadata": {},
     "output_type": "execute_result"
    }
   ],
   "source": [
    "HTML('<iframe src=https://www.tnlottery.com/winningnumbers/TennesseeCashlist.aspx?TCShowall=y#TennesseeCashball width=900 height=600></iframe>')"
   ]
  },
  {
   "cell_type": "markdown",
   "metadata": {},
   "source": [
    "There are two types of links that are of interest here. First there are the \"details\" links to the right. I chose to deal with these by having Beautiful Soup read the URL's encoded in the tags and use them to access each page. A more challenging problem is to use the \"Next Page\" link at the bottom of the page to access the next set of 40 \"details\" links. For this I used the Selenium package. (Read the documentation <a href = 'http://selenium-python.readthedocs.org'>here.</a>) Fortunately, the link has an id that remains the same no matter how many times we click, so the code is straightforward."
   ]
  },
  {
   "cell_type": "code",
   "execution_count": null,
   "metadata": {
    "collapsed": true
   },
   "outputs": [],
   "source": [
    "from selenium import webdriver\n",
    "from bs4 import BeautifulSoup\n",
    "import requests\n",
    "from datetime import date\n",
    "from time import sleep\n",
    "\n",
    "\n",
    "def GetTnCashData(url):\n",
    "    page = requests.get(url).text\n",
    "    bsPage = BeautifulSoup(page)\n",
    "    temp = bsPage.find_all(\"td\",class_=\"SmallBlackText\")\n",
    "    winners = []\n",
    "    prizes = []\n",
    "    for i in range(1,8):\n",
    "        winners.append(temp[3*i+1].get_text())\n",
    "        prizes.append(temp[3*i+2].get_text().replace('$','').replace(',',''))\n",
    "    return winners + prizes\n",
    "\n",
    "def cleanDate(strdate):\n",
    "    temp = strdate.split('/')\n",
    "    return date(int(temp[2]),int(temp[0]),int(temp[1])).strftime('%Y-%m-%d')\n",
    "\n",
    "tnc = open('tn_cash.csv','w')\n",
    "tnc.write(','.join(['drawdate','n1','n2','n3','n4','n5','cashball','win51','win50','win41','win40','win31','win30','win21','prize51','prize50','prize41','prize40','prize31','prize30','prize21'])+'\\n')\n",
    "driver = webdriver.Firefox()\n",
    "driver.get('https://www.tnlottery.com/winningnumbers/TennesseeCashlist.aspx?TCShowall=y#TennesseeCashball')\n",
    "html = driver.page_source\n",
    "nextLink = \"navTennesseeCashNextPage\"\n",
    "soup = BeautifulSoup(html)\n",
    "for pg in range(0,20):\n",
    "    temp = soup.find_all(\"td\",align=\"center\")\n",
    "    top = (len(temp)-4)/3 + 1\n",
    "    print pg, len(temp)\n",
    "    for i in range(1,top):\n",
    "        drawDate = [cleanDate(temp[3*i].get_text())]\n",
    "        NumsDrawn = temp[3*i+1].get_text().replace('-',' ').split(' ')\n",
    "        drawID = temp[3*i+2].a.get('href')\n",
    "        drawID = drawID[drawID.index('=')+1:]\n",
    "        drawID = drawID[:drawID.index(\"'\")]\n",
    "        drawData = GetTnCashData('https://www.tnlottery.com/winningnumbers/TennesseeCashdetails_popup.aspx?id='+drawID)\n",
    "        tnc.write(','.join(drawDate + NumsDrawn + drawData) + '\\n')\n",
    "    driver.find_element_by_id(nextLink).click()\n",
    "    sleep(30)\n",
    "    soup = BeautifulSoup(driver.page_source)\n",
    "\n",
    "tnc.close()\n",
    "print 'Done'"
   ]
  },
  {
   "cell_type": "markdown",
   "metadata": {},
   "source": [
    "Note that this code builds each data point from two different sources: the date and numbers drawn are read from the main page while the winner counts and prize amounts are read from the pop-up window you see when you click a \"details\" link."
   ]
  },
  {
   "cell_type": "markdown",
   "metadata": {},
   "source": [
    "### Using Selenium to Fill in a Form\n",
    "\n",
    "Past results from the  <a href='http://www.oregonlottery.org/games/draw-games/megabucks/past-results'>Oregon Lottery</a> website can be accessed only by using a form on the results page. Once again, Selenium is up to the challenge. Like in the Florida and North Carolina cases, the code iterates through a date object and checks for a valid day of the week (Monday, Wednesday, or Saturday.) However, here Selenium enters the date into the form in two places, \"Start Date\" and \"End Date.\" (Using the same date in both parts of the form simplifies both the iteration and the Beautiful Soup processing.) Then Selenium clicks the submit button.\n",
    "\n",
    "While testing this I noticed that sometimes the code repeats results from a previous selection, most likely due to a failure of the new page to load fast enough. The code deals with this issue in two ways. First, the ```sleep``` function from the ```date``` module pauses the code for 30 seconds, greatly reducing the likelihood of the problem occuring. As a extra safety measure, the also checks that the date on the page matches the one entered into the form before writing the results to a file. If the dates don't match, the desired date, i.e. the one Selenium entered on the form, is written to an error log."
   ]
  },
  {
   "cell_type": "code",
   "execution_count": null,
   "metadata": {
    "collapsed": true
   },
   "outputs": [],
   "source": [
    "from selenium import webdriver\n",
    "from datetime import timedelta, date\n",
    "import requests\n",
    "from bs4 import BeautifulSoup\n",
    "import re\n",
    "from time import sleep\n",
    "\n",
    "ormb = open('or_megabucks.csv','a')\n",
    "ormb_err = open('or_megabucks_errors.csv','w')\n",
    "ormb.write(','.join(['drawdate','n1','n2','n3','n4','n5','n6','winners6','winners5','winners4','prize6','prize5','prize4'])+'\\n')\n",
    "start_date = date(2012,10,30)\n",
    "end_date = date(2015,10,30)\n",
    "current = start_date\n",
    "\n",
    "driver = webdriver.Firefox()\n",
    "driver.get('http://www.oregonlottery.org/games/draw-games/megabucks/past-results')\n",
    "\n",
    "while current < end_date:\n",
    "    while current.strftime('%w') not in ['1','3','6']:\n",
    "        current = current + timedelta(1)    \n",
    "    driver.find_element_by_id(\"FromDate\").clear()\n",
    "    driver.find_element_by_id(\"ToDate\").clear()\n",
    "    driver.find_element_by_id(\"FromDate\").send_keys(current.strftime('%m/%d/%Y'))\n",
    "    driver.find_element_by_id(\"ToDate\").send_keys(current.strftime('%m/%d/%Y'))\n",
    "    driver.find_element_by_css_selector(\".viewResultsButton\").click()\n",
    "    sleep(30)\n",
    "    soup = BeautifulSoup(driver.page_source)\n",
    "    test1 = soup.find_all(\"td\")\n",
    "    numbers = [test1[i].get_text() for i in range(2,8)] \n",
    "    test2 = soup.find_all(\"strong\")\n",
    "    winners = [test2[1].get_text().replace(',','')]\n",
    "    prizes = [test2[0].get_text().replace('$','').replace(',','')]\n",
    "    for i in range(0,2):\n",
    "        winners.append(test2[4*i+3].get_text().replace(',',''))\n",
    "        prizes.append(test2[4*i+2].get_text().replace('$','').replace(',','')) \n",
    "    testdate = test1[0].get_text().split('/')\n",
    "    testdate = date(int(testdate[2]),int(testdate[0]),int(testdate[1]))\n",
    "    if current.strftime('%Y-%m-%d') == testdate.strftime('%Y-%m-%d'):\n",
    "        ormb.write(','.join([testdate.strftime('%Y-%m-%d')] + numbers + winners + prizes)+'\\n')\n",
    "    else:\n",
    "        ormb_err.write(current.strftime('%Y-%m-%d') + '\\n')\n",
    "    \n",
    "    current = current + timedelta(1)\n",
    "\n",
    "ormb.close()\n",
    "ormb_err.close()"
   ]
  },
  {
   "cell_type": "markdown",
   "metadata": {},
   "source": [
    "## Statistical Testing\n",
    "\n",
    "Building models that predict prize amounts from the numbers drawn is beyond the scope of this project, but there are some statistical tests we can do that will provide evidence that such models are possible. The contention is that large prize amounts are associated with large drawn numbers and small prize amounts are associated with small drawn numbers. \n",
    "\n",
    "The testing framework is as follows. For each game we will select a prize level and examine the draws with prize amounts less than or equal to the 25th percentile and the draws with prize amounts greater than or equal to the 75th percentile. For each of the draws with small prizes amounts, we will calculate the sum of the numbers drawn and find the mean of the sums. Then we will calculate the probability that the same number of random draws would result in a mean as low or lower than what we observed. We will do the same for draws with large prizes, except that the probability calculation will be the probability that the same number of random draws would result in a mean as high or higher than what we observed.\n",
    "\n",
    "We will need some functions to carry out these tests, starting with the the mean and variance of the sum of $k$ integers drawn at random from the set $\\{1,...,n\\}$."
   ]
  },
  {
   "cell_type": "code",
   "execution_count": null,
   "metadata": {
    "collapsed": true
   },
   "outputs": [],
   "source": [
    "def DrawMean(n,k):\n",
    "    return n*k/2.0\n",
    "\n",
    "def DrawVar(n,k):\n",
    "    return (k*(n-k)*(n+1))/12.0"
   ]
  },
  {
   "cell_type": "markdown",
   "metadata": {},
   "source": [
    "The key function is the following, which calculates the probabilities described above."
   ]
  },
  {
   "cell_type": "code",
   "execution_count": 16,
   "metadata": {
    "collapsed": true
   },
   "outputs": [],
   "source": [
    "import scipy\n",
    "from scipy import stats\n",
    "\n",
    "def FormulaTest(n, k, draws, muObserved, tail = 'upper'):\n",
    "    if tail == 'upper':\n",
    "        return 1 - norm.cdf(muObserved, loc = DrawMean(n,k), scale = (DrawVar(n,k)/n)**0.5)\n",
    "    else:\n",
    "        return norm.cdf(muObserved, loc = DrawMean(n,k), scale = (DrawVar(n,k)/n)**0.5)"
   ]
  },
  {
   "cell_type": "raw",
   "metadata": {},
   "source": [
    "As a check on our work, we define a function that uses a Monte Carlo simulation to calculate an equivalent probabilty."
   ]
  },
  {
   "cell_type": "code",
   "execution_count": null,
   "metadata": {
    "collapsed": true
   },
   "outputs": [],
   "source": [
    "import numpy as np\n",
    "from numpy import random\n",
    "\n",
    "def MonteCarloTest(n, k, draws, muObserved, tail = 'upper', iters=1000):\n",
    "    temp = [sum([random.randint(1,n+1,k).sum() for i in range(draws)])/float(draws) for j in range(iters)]\n",
    "    if tail == 'upper':\n",
    "        return sum([t >= muObserved for t in temp])/float(iters)\n",
    "    else:\n",
    "        return sum([t <= muObserved for t in temp])/float(iters)"
   ]
  }
 ],
 "metadata": {
  "kernelspec": {
   "display_name": "Python 2",
   "language": "python",
   "name": "python2"
  },
  "language_info": {
   "codemirror_mode": {
    "name": "ipython",
    "version": 2
   },
   "file_extension": ".py",
   "mimetype": "text/x-python",
   "name": "python",
   "nbconvert_exporter": "python",
   "pygments_lexer": "ipython2",
   "version": "2.7.10"
  }
 },
 "nbformat": 4,
 "nbformat_minor": 0
}
