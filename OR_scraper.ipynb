{
 "cells": [
  {
   "cell_type": "code",
   "execution_count": 5,
   "metadata": {
    "collapsed": false
   },
   "outputs": [],
   "source": [
    "from selenium import webdriver\n",
    "from selenium.webdriver.common.by import By\n",
    "from selenium.webdriver.support.ui import WebDriverWait\n",
    "from selenium.webdriver.support import expected_conditions as EC\n",
    "from datetime import timedelta, date\n",
    "import requests\n",
    "from bs4 import BeautifulSoup\n",
    "import re\n",
    "from time import sleep\n",
    "\n",
    "ormb = open('or_megabucks.csv','a')\n",
    "ormb_err = open('or_megabucks_errors.csv','w')\n",
    "ormb.write(','.join(['drawdate','n1','n2','n3','n4','n5','n6','winners6','winners5','winners4','prize6','prize5','prize4'])+'\\n')\n",
    "start_date = date(2014,11,3)\n",
    "end_date = date(2014,11,4)\n",
    "current = start_date\n",
    "\n",
    "driver = webdriver.Firefox()\n",
    "driver.get('http://www.oregonlottery.org/games/draw-games/megabucks/past-results')\n",
    "\n",
    "while current < end_date:\n",
    "    while current.strftime('%w') not in ['1','3','6']:\n",
    "        current = current + timedelta(1)    \n",
    "    driver.find_element_by_id(\"FromDate\").clear()\n",
    "    driver.find_element_by_id(\"ToDate\").clear()\n",
    "    driver.find_element_by_id(\"FromDate\").send_keys(current.strftime('%m/%d/%Y'))\n",
    "    driver.find_element_by_id(\"ToDate\").send_keys(current.strftime('%m/%d/%Y'))\n",
    "    driver.find_element_by_css_selector(\".viewResultsButton\").click()\n",
    "    sleep(30)\n",
    "    soup = BeautifulSoup(driver.page_source)\n",
    "    test1 = soup.find_all(\"td\")\n",
    "    numbers = [test1[i].get_text() for i in range(2,8)] \n",
    "    test2 = soup.find_all(\"strong\")\n",
    "    winners = [test2[1].get_text().replace(',','')]\n",
    "    prizes = [test2[0].get_text().replace('$','').replace(',','')]\n",
    "    for i in range(0,2):\n",
    "        winners.append(test2[4*i+3].get_text().replace(',',''))\n",
    "        prizes.append(test2[4*i+2].get_text().replace('$','').replace(',','')) \n",
    "    testdate = test1[0].get_text().split('/')\n",
    "    testdate = date(int(testdate[2]),int(testdate[0]),int(testdate[1]))\n",
    "    if current.strftime('%Y-%m-%d') == testdate.strftime('%Y-%m-%d'):\n",
    "        ormb.write(','.join([testdate.strftime('%Y-%m-%d')] + numbers + winners + prizes)+'\\n')\n",
    "    else:\n",
    "        ormb_err.write(current.strftime('%Y-%m-%d') + '\\n')\n",
    "    \n",
    "    current = current + timedelta(1)\n",
    "\n",
    "ormb.close()\n",
    "ormb_err.close()"
   ]
  },
  {
   "cell_type": "code",
   "execution_count": null,
   "metadata": {
    "collapsed": true
   },
   "outputs": [],
   "source": []
  }
 ],
 "metadata": {
  "kernelspec": {
   "display_name": "Python 2",
   "language": "python",
   "name": "python2"
  },
  "language_info": {
   "codemirror_mode": {
    "name": "ipython",
    "version": 2
   },
   "file_extension": ".py",
   "mimetype": "text/x-python",
   "name": "python",
   "nbconvert_exporter": "python",
   "pygments_lexer": "ipython2",
   "version": "2.7.10"
  }
 },
 "nbformat": 4,
 "nbformat_minor": 0
}
