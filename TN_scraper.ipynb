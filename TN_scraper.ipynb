{
 "cells": [
  {
   "cell_type": "code",
   "execution_count": 2,
   "metadata": {
    "collapsed": false
   },
   "outputs": [
    {
     "name": "stdout",
     "output_type": "stream",
     "text": [
      "0 124\n",
      "1 124\n",
      "2 124\n",
      "3 124\n",
      "4 124\n",
      "5 124\n",
      "6 124\n",
      "7 124\n",
      "8 124\n",
      "9 124\n",
      "10 124\n",
      "11 124\n",
      "12 124\n",
      "13 124\n",
      "14 124\n",
      "15 124\n",
      "16 124\n",
      "17 124\n",
      "18 124\n",
      "19 106\n",
      "Done\n"
     ]
    }
   ],
   "source": [
    "from selenium import webdriver\n",
    "from selenium.webdriver.common.by import By\n",
    "from selenium.webdriver.support.ui import WebDriverWait\n",
    "from selenium.webdriver.support import expected_conditions as EC\n",
    "from bs4 import BeautifulSoup\n",
    "import requests\n",
    "from datetime import date\n",
    "from time import sleep\n",
    "\n",
    "\n",
    "def GetTnCashData(url):\n",
    "    page = requests.get(url).text\n",
    "    bsPage = BeautifulSoup(page)\n",
    "    temp = bsPage.find_all(\"td\",class_=\"SmallBlackText\")\n",
    "    winners = []\n",
    "    prizes = []\n",
    "    for i in range(1,8):\n",
    "        winners.append(temp[3*i+1].get_text())\n",
    "        prizes.append(temp[3*i+2].get_text().replace('$','').replace(',',''))\n",
    "    return winners + prizes\n",
    "\n",
    "def cleanDate(strdate):\n",
    "    temp = strdate.split('/')\n",
    "    return date(int(temp[2]),int(temp[0]),int(temp[1])).strftime('%Y-%m-%d')\n",
    "\n",
    "tnc = open('tn_cash.csv','w')\n",
    "tnc.write(','.join(['drawdate','n1','n2','n3','n4','n5','cashball','win51','win50','win41','win40','win31','win30','win21','prize51','prize50','prize41','prize40','prize31','prize30','prize21'])+'\\n')\n",
    "driver = webdriver.Firefox()\n",
    "driver.get('https://www.tnlottery.com/winningnumbers/TennesseeCashlist.aspx?TCShowall=y#TennesseeCashball')\n",
    "html = driver.page_source\n",
    "nextLink = \"navTennesseeCashNextPage\"\n",
    "soup = BeautifulSoup(html)\n",
    "for pg in range(0,20):\n",
    "    temp = soup.find_all(\"td\",align=\"center\")\n",
    "    top = (len(temp)-4)/3 + 1\n",
    "    print pg, len(temp)\n",
    "    for i in range(1,top):\n",
    "        drawDate = [cleanDate(temp[3*i].get_text())]\n",
    "        NumsDrawn = temp[3*i+1].get_text().replace('-',' ').split(' ')\n",
    "        drawID = temp[3*i+2].a.get('href')\n",
    "        drawID = drawID[drawID.index('=')+1:]\n",
    "        drawID = drawID[:drawID.index(\"'\")]\n",
    "        drawData = GetTnCashData('https://www.tnlottery.com/winningnumbers/TennesseeCashdetails_popup.aspx?id='+drawID)\n",
    "        tnc.write(','.join(drawDate + NumsDrawn + drawData) + '\\n')\n",
    "    driver.find_element_by_id(nextLink).click()\n",
    "    sleep(30)\n",
    "    soup = BeautifulSoup(driver.page_source)\n",
    "\n",
    "tnc.close()\n",
    "print 'Done'"
   ]
  },
  {
   "cell_type": "code",
   "execution_count": null,
   "metadata": {
    "collapsed": true
   },
   "outputs": [],
   "source": []
  }
 ],
 "metadata": {
  "kernelspec": {
   "display_name": "Python 2",
   "language": "python",
   "name": "python2"
  },
  "language_info": {
   "codemirror_mode": {
    "name": "ipython",
    "version": 2
   },
   "file_extension": ".py",
   "mimetype": "text/x-python",
   "name": "python",
   "nbconvert_exporter": "python",
   "pygments_lexer": "ipython2",
   "version": "2.7.10"
  }
 },
 "nbformat": 4,
 "nbformat_minor": 0
}
